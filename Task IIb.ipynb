{
 "cells": [
  {
   "cell_type": "markdown",
   "metadata": {},
   "source": [
    "# Task II: Classical GNNs #"
   ]
  },
  {
   "cell_type": "markdown",
   "metadata": {},
   "source": [
    "Since I had so many problems with connecting the point cloud data into a graph, I tried a different approach. This method implements a CNN to classify Quark and Gluon jets."
   ]
  },
  {
   "cell_type": "markdown",
   "metadata": {},
   "source": [
    "This is one of my first data extraction methods when I was trying to understand the data format and representation. I didn't end up using it directly, but it helped me visualize the data storage structure."
   ]
  },
  {
   "cell_type": "code",
   "execution_count": 2,
   "metadata": {},
   "outputs": [
    {
     "name": "stdout",
     "output_type": "stream",
     "text": [
      "X [[[ 2.68769142e-01  3.56903171e-01  4.74138734e+00  2.20000000e+01]\n",
      "  [ 1.60076377e-01 -2.55609533e-01  4.55022910e+00  2.20000000e+01]\n",
      "  [ 1.14868731e+00 -6.24380156e-02  4.50385377e+00 -2.11000000e+02]\n",
      "  ...\n",
      "  [ 0.00000000e+00  0.00000000e+00  0.00000000e+00  0.00000000e+00]\n",
      "  [ 0.00000000e+00  0.00000000e+00  0.00000000e+00  0.00000000e+00]\n",
      "  [ 0.00000000e+00  0.00000000e+00  0.00000000e+00  0.00000000e+00]]\n",
      "\n",
      " [[ 1.21266321e+00 -1.12853089e-01  3.04708757e+00 -2.11000000e+02]\n",
      "  [ 2.40893976e-01 -1.67174886e-02  2.82705667e+00  2.20000000e+01]\n",
      "  [ 1.02778452e-01 -8.58720522e-02  3.04180579e+00  2.20000000e+01]\n",
      "  ...\n",
      "  [ 0.00000000e+00  0.00000000e+00  0.00000000e+00  0.00000000e+00]\n",
      "  [ 0.00000000e+00  0.00000000e+00  0.00000000e+00  0.00000000e+00]\n",
      "  [ 0.00000000e+00  0.00000000e+00  0.00000000e+00  0.00000000e+00]]\n",
      "\n",
      " [[ 2.16829416e-01 -9.97057017e-01  5.32568913e-01  2.20000000e+01]\n",
      "  [ 2.31359397e-01 -1.59192211e+00  2.02906587e-01  2.20000000e+01]\n",
      "  [ 3.41572501e-01 -1.34588077e+00  1.79910012e-01  2.20000000e+01]\n",
      "  ...\n",
      "  [ 0.00000000e+00  0.00000000e+00  0.00000000e+00  0.00000000e+00]\n",
      "  [ 0.00000000e+00  0.00000000e+00  0.00000000e+00  0.00000000e+00]\n",
      "  [ 0.00000000e+00  0.00000000e+00  0.00000000e+00  0.00000000e+00]]\n",
      "\n",
      " ...\n",
      "\n",
      " [[ 5.62305979e-01  1.30600679e+00  4.45584187e+00  3.21000000e+02]\n",
      "  [ 5.33720850e-01  1.27847224e+00  4.63907136e+00 -2.11200000e+03]\n",
      "  [ 8.22173394e-01  7.12645581e-01  4.70736440e+00 -2.11000000e+02]\n",
      "  ...\n",
      "  [ 0.00000000e+00  0.00000000e+00  0.00000000e+00  0.00000000e+00]\n",
      "  [ 0.00000000e+00  0.00000000e+00  0.00000000e+00  0.00000000e+00]\n",
      "  [ 0.00000000e+00  0.00000000e+00  0.00000000e+00  0.00000000e+00]]\n",
      "\n",
      " [[ 2.31124336e-01 -6.34761724e-02  3.95621834e+00  2.20000000e+01]\n",
      "  [ 1.28517426e+00 -7.18495606e-02  3.79668946e+00 -2.11000000e+02]\n",
      "  [ 2.69184416e+00  2.79825145e-02  4.10518218e+00  2.11000000e+02]\n",
      "  ...\n",
      "  [ 0.00000000e+00  0.00000000e+00  0.00000000e+00  0.00000000e+00]\n",
      "  [ 0.00000000e+00  0.00000000e+00  0.00000000e+00  0.00000000e+00]\n",
      "  [ 0.00000000e+00  0.00000000e+00  0.00000000e+00  0.00000000e+00]]\n",
      "\n",
      " [[ 3.04140138e-01  7.21628966e-01  1.25271426e+00  2.20000000e+01]\n",
      "  [ 9.00649058e-01  1.19311927e+00  1.03353543e+00  2.11000000e+02]\n",
      "  [ 1.54846983e-01  1.37730434e+00  1.24606922e+00  2.11000000e+02]\n",
      "  ...\n",
      "  [ 0.00000000e+00  0.00000000e+00  0.00000000e+00  0.00000000e+00]\n",
      "  [ 0.00000000e+00  0.00000000e+00  0.00000000e+00  0.00000000e+00]\n",
      "  [ 0.00000000e+00  0.00000000e+00  0.00000000e+00  0.00000000e+00]]]\n",
      "y [1. 1. 1. ... 1. 0. 0.]\n"
     ]
    }
   ],
   "source": [
    "import numpy as np\n",
    "\n",
    "data = np.load('qg_dataset/QG_jets.npz', allow_pickle=True)\n",
    "DATA_SIZE = 0\n",
    "for key, value in data.items():\n",
    "    print(key, value)\n",
    "    DATA_SIZE = len(value)"
   ]
  },
  {
   "cell_type": "code",
   "execution_count": 3,
   "metadata": {},
   "outputs": [],
   "source": [
    "import torch\n",
    "import torch.nn as nn\n",
    "import torch.optim as optim\n",
    "from torch_geometric.data import Data, DataLoader\n",
    "import numpy as np\n",
    "import matplotlib as plt"
   ]
  },
  {
   "cell_type": "markdown",
   "metadata": {},
   "source": [
    "The model uses 5 convolution layers with a ReLU activation function and a softmax at the end. "
   ]
  },
  {
   "cell_type": "code",
   "execution_count": 4,
   "metadata": {},
   "outputs": [],
   "source": [
    "class CustomNet(nn.Module):\n",
    "    def __init__(self, input_channels=4):\n",
    "        super(CustomNet, self).__init__()\n",
    "        \n",
    "        self.conv1 = nn.Conv1d(input_channels, 32, 1)\n",
    "        self.conv2 = nn.Conv1d(32, 64, 1)\n",
    "        self.conv3 = nn.Conv1d(64, 64, 1)\n",
    "        self.conv4 = nn.Conv1d(64, 128, 1)\n",
    "        self.conv5 = nn.Conv1d(128, 256, 1)\n",
    "        \n",
    "        self.fc1 = nn.Linear(256, 128)\n",
    "        self.fc2 = nn.Linear(128, 64)\n",
    "        self.fc3 = nn.Linear(64, 2)\n",
    "        \n",
    "        self.relu = nn.ReLU()\n",
    "        self.dropout = nn.Dropout(p=0.3)\n",
    "        self.softmax = nn.Softmax(dim=1)\n",
    "\n",
    "    def forward(self, x):\n",
    "        x = self.relu(self.conv1(x))\n",
    "        x = self.relu(self.conv2(x))\n",
    "        x = self.relu(self.conv3(x))\n",
    "        x = self.relu(self.conv4(x))\n",
    "        x = self.relu(self.conv5(x))\n",
    "        \n",
    "        x = torch.max(x, 2, keepdim=True)[0]\n",
    "        x = x.view(-1, 256)\n",
    "        \n",
    "        x = self.relu(self.fc1(x))\n",
    "        x = self.dropout(x)\n",
    "        x = self.relu(self.fc2(x))\n",
    "        x = self.dropout(x)\n",
    "        x = self.fc3(x)\n",
    "        x = self.softmax(x)\n",
    "        \n",
    "        return x"
   ]
  },
  {
   "cell_type": "markdown",
   "metadata": {},
   "source": [
    "Originally, I had higher dimension arguments with two QG datasets (two .npz files), but the training was taking 10 minutes/epoch. I limited the dataset to one file, downscaled the network, increased the batch size, and decreased the number of epochs from the original parameters.\n"
   ]
  },
  {
   "cell_type": "code",
   "execution_count": 5,
   "metadata": {},
   "outputs": [
    {
     "name": "stderr",
     "output_type": "stream",
     "text": [
      "c:\\Users\\realc\\AppData\\Local\\Programs\\Python\\Python311\\Lib\\site-packages\\torch_geometric\\deprecation.py:26: UserWarning: 'data.DataLoader' is deprecated, use 'loader.DataLoader' instead\n",
      "  warnings.warn(out)\n"
     ]
    }
   ],
   "source": [
    "class JetDataset(torch.utils.data.Dataset):\n",
    "    def __init__(self, data_path):\n",
    "        self.data = np.load(data_path, allow_pickle=True)\n",
    "        self.samples = []\n",
    "        \n",
    "        for key, value in self.data.items():\n",
    "            if key == 'X':\n",
    "                self.samples.extend([(sample, label) for sample, label in zip(value, self.data['y'])])\n",
    "                \n",
    "    def __len__(self):\n",
    "        return len(self.samples)\n",
    "    \n",
    "    def __getitem__(self, idx):\n",
    "        sample, label = self.samples[idx]\n",
    "        sample = torch.tensor(sample.transpose(), dtype=torch.float32)\n",
    "        label = torch.tensor(label, dtype=torch.long) \n",
    "        return sample, label\n",
    "\n",
    "data_path = 'qg_dataset/QG_jets.npz'\n",
    "jet_dataset = JetDataset(data_path)\n",
    "batch_size = 128\n",
    "data_loader = DataLoader(jet_dataset, batch_size=batch_size, shuffle=True)\n",
    "train_loader = DataLoader(jet_dataset, batch_size=batch_size, shuffle=True)"
   ]
  },
  {
   "cell_type": "markdown",
   "metadata": {},
   "source": [
    "This is the model initialization and training section. Again, I'm using Adam. The loss consistently decreases as the training continues."
   ]
  },
  {
   "cell_type": "code",
   "execution_count": 8,
   "metadata": {},
   "outputs": [
    {
     "name": "stdout",
     "output_type": "stream",
     "text": [
      "[1,   100] loss: 0.635\n",
      "[1,   200] loss: 0.599\n",
      "[1,   300] loss: 0.584\n",
      "[1,   400] loss: 0.576\n",
      "[1,   500] loss: 0.580\n",
      "[1,   600] loss: 0.572\n",
      "[1,   700] loss: 0.571\n",
      "[2,   100] loss: 0.562\n",
      "[2,   200] loss: 0.569\n",
      "[2,   300] loss: 0.565\n",
      "[2,   400] loss: 0.561\n",
      "[2,   500] loss: 0.566\n",
      "[2,   600] loss: 0.564\n",
      "[2,   700] loss: 0.566\n",
      "[3,   100] loss: 0.563\n",
      "[3,   200] loss: 0.561\n",
      "[3,   300] loss: 0.557\n",
      "[3,   400] loss: 0.558\n",
      "[3,   500] loss: 0.562\n",
      "[3,   600] loss: 0.560\n",
      "[3,   700] loss: 0.567\n",
      "[4,   100] loss: 0.557\n",
      "[4,   200] loss: 0.554\n",
      "[4,   300] loss: 0.561\n",
      "[4,   400] loss: 0.560\n",
      "[4,   500] loss: 0.564\n",
      "[4,   600] loss: 0.560\n",
      "[4,   700] loss: 0.559\n",
      "[5,   100] loss: 0.562\n",
      "[5,   200] loss: 0.553\n",
      "[5,   300] loss: 0.555\n",
      "[5,   400] loss: 0.553\n",
      "[5,   500] loss: 0.551\n",
      "[5,   600] loss: 0.552\n",
      "[5,   700] loss: 0.552\n",
      "[6,   100] loss: 0.557\n",
      "[6,   200] loss: 0.552\n",
      "[6,   300] loss: 0.557\n",
      "[6,   400] loss: 0.552\n",
      "[6,   500] loss: 0.549\n",
      "[6,   600] loss: 0.552\n",
      "[6,   700] loss: 0.558\n",
      "[7,   100] loss: 0.549\n",
      "[7,   200] loss: 0.552\n",
      "[7,   300] loss: 0.547\n",
      "[7,   400] loss: 0.553\n",
      "[7,   500] loss: 0.547\n",
      "[7,   600] loss: 0.554\n",
      "[7,   700] loss: 0.547\n",
      "[8,   100] loss: 0.552\n",
      "[8,   200] loss: 0.546\n",
      "[8,   300] loss: 0.547\n",
      "[8,   400] loss: 0.547\n",
      "[8,   500] loss: 0.549\n",
      "[8,   600] loss: 0.544\n",
      "[8,   700] loss: 0.552\n",
      "[9,   100] loss: 0.544\n",
      "[9,   200] loss: 0.550\n",
      "[9,   300] loss: 0.546\n",
      "[9,   400] loss: 0.550\n",
      "[9,   500] loss: 0.539\n",
      "[9,   600] loss: 0.550\n",
      "[9,   700] loss: 0.547\n",
      "[10,   100] loss: 0.543\n",
      "[10,   200] loss: 0.544\n",
      "[10,   300] loss: 0.537\n",
      "[10,   400] loss: 0.546\n",
      "[10,   500] loss: 0.551\n",
      "[10,   600] loss: 0.543\n",
      "[10,   700] loss: 0.542\n"
     ]
    }
   ],
   "source": [
    "model = CustomNet()\n",
    "optimizer = optim.Adam(model.parameters(), lr=0.001)\n",
    "\n",
    "criterion = nn.CrossEntropyLoss()\n",
    "\n",
    "num_epochs = 10\n",
    "\n",
    "for epoch in range(num_epochs):\n",
    "    running_loss = 0.0\n",
    "    for i, data in enumerate(data_loader, 0):\n",
    "        inputs, labels = data\n",
    "        optimizer.zero_grad()\n",
    "        \n",
    "        outputs = model(inputs.float())\n",
    "        loss = criterion(outputs, labels.long())\n",
    "        loss.backward()\n",
    "        optimizer.step()\n",
    "        \n",
    "        running_loss += loss.item()\n",
    "        if i % 100 == 99:\n",
    "            print('[%d, %5d] loss: %.3f' %\n",
    "                  (epoch + 1, i + 1, running_loss / 100))\n",
    "            running_loss = 0.0\n"
   ]
  },
  {
   "cell_type": "markdown",
   "metadata": {},
   "source": [
    "#### Results ####\n",
    "\n",
    "The loss throughout training went down from the initial 0.63 to 0.56 after 3 epochs, which is how much I originally ran it for. The accuracy for this was 73%. This is fine considering it only took a few minutes, but I thought a classification of 50/50 should do a little better. Also, the loss didn't stagger or start diverging from its trend, so I extended the number of epochs to 10. The final results with this change are 75% accuracy. The loss is still decreasing, but a more substantial change in the structure (like a working GNN) would likely to provide better classification for this problem."
   ]
  },
  {
   "cell_type": "code",
   "execution_count": 9,
   "metadata": {},
   "outputs": [
    {
     "name": "stdout",
     "output_type": "stream",
     "text": [
      "Accuracy on test set: 75.78 %\n"
     ]
    }
   ],
   "source": [
    "def test(model, test_loader):\n",
    "    correct = 0\n",
    "    total = 0\n",
    "    with torch.no_grad():\n",
    "        for data in test_loader:\n",
    "            inputs, labels = data\n",
    "            outputs = model(inputs.float())\n",
    "            _, predicted = torch.max(outputs.data, 1)\n",
    "            total += labels.size(0)\n",
    "            correct += (predicted == labels).sum().item()\n",
    "    accuracy = 100 * correct / total\n",
    "    print('Accuracy on test set: %.2f %%' % accuracy)\n",
    "\n",
    "test_loader = DataLoader(jet_dataset, batch_size=batch_size, shuffle=False)\n",
    "test(model, test_loader)\n"
   ]
  }
 ],
 "metadata": {
  "kernelspec": {
   "display_name": "Python 3",
   "language": "python",
   "name": "python3"
  },
  "language_info": {
   "codemirror_mode": {
    "name": "ipython",
    "version": 3
   },
   "file_extension": ".py",
   "mimetype": "text/x-python",
   "name": "python",
   "nbconvert_exporter": "python",
   "pygments_lexer": "ipython3",
   "version": "3.11.1"
  }
 },
 "nbformat": 4,
 "nbformat_minor": 2
}
