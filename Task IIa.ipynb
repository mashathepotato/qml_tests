{
 "cells": [
  {
   "cell_type": "markdown",
   "metadata": {},
   "source": [
    "# Task II: Classical GNNs (Part I) #\n",
    "\n",
    "This is my attempt at implementing a classical GNN to classify Quark and Gluon jets.\n",
    "\n",
    "Considering that this is a point cloud dataset, I decided to use a PointNet architecture. This was developed specifically for messy data clouds to be converted into a graph-like structure to perform classification, segmentation, or other data maneuvers. I had never used it before, but the theory behind it made enough sense to give it a try."
   ]
  },
  {
   "cell_type": "markdown",
   "metadata": {},
   "source": [
    "This is one of my first data extraction methods when I was trying to understand the data format and representation. I didn't end up using it directly, but it helped me visualize the data storage structure."
   ]
  },
  {
   "cell_type": "code",
   "execution_count": 1,
   "metadata": {},
   "outputs": [
    {
     "name": "stdout",
     "output_type": "stream",
     "text": [
      "X [[[ 2.68769142e-01  3.56903171e-01  4.74138734e+00  2.20000000e+01]\n",
      "  [ 1.60076377e-01 -2.55609533e-01  4.55022910e+00  2.20000000e+01]\n",
      "  [ 1.14868731e+00 -6.24380156e-02  4.50385377e+00 -2.11000000e+02]\n",
      "  ...\n",
      "  [ 0.00000000e+00  0.00000000e+00  0.00000000e+00  0.00000000e+00]\n",
      "  [ 0.00000000e+00  0.00000000e+00  0.00000000e+00  0.00000000e+00]\n",
      "  [ 0.00000000e+00  0.00000000e+00  0.00000000e+00  0.00000000e+00]]\n",
      "\n",
      " [[ 1.21266321e+00 -1.12853089e-01  3.04708757e+00 -2.11000000e+02]\n",
      "  [ 2.40893976e-01 -1.67174886e-02  2.82705667e+00  2.20000000e+01]\n",
      "  [ 1.02778452e-01 -8.58720522e-02  3.04180579e+00  2.20000000e+01]\n",
      "  ...\n",
      "  [ 0.00000000e+00  0.00000000e+00  0.00000000e+00  0.00000000e+00]\n",
      "  [ 0.00000000e+00  0.00000000e+00  0.00000000e+00  0.00000000e+00]\n",
      "  [ 0.00000000e+00  0.00000000e+00  0.00000000e+00  0.00000000e+00]]\n",
      "\n",
      " [[ 2.16829416e-01 -9.97057017e-01  5.32568913e-01  2.20000000e+01]\n",
      "  [ 2.31359397e-01 -1.59192211e+00  2.02906587e-01  2.20000000e+01]\n",
      "  [ 3.41572501e-01 -1.34588077e+00  1.79910012e-01  2.20000000e+01]\n",
      "  ...\n",
      "  [ 0.00000000e+00  0.00000000e+00  0.00000000e+00  0.00000000e+00]\n",
      "  [ 0.00000000e+00  0.00000000e+00  0.00000000e+00  0.00000000e+00]\n",
      "  [ 0.00000000e+00  0.00000000e+00  0.00000000e+00  0.00000000e+00]]\n",
      "\n",
      " ...\n",
      "\n",
      " [[ 5.62305979e-01  1.30600679e+00  4.45584187e+00  3.21000000e+02]\n",
      "  [ 5.33720850e-01  1.27847224e+00  4.63907136e+00 -2.11200000e+03]\n",
      "  [ 8.22173394e-01  7.12645581e-01  4.70736440e+00 -2.11000000e+02]\n",
      "  ...\n",
      "  [ 0.00000000e+00  0.00000000e+00  0.00000000e+00  0.00000000e+00]\n",
      "  [ 0.00000000e+00  0.00000000e+00  0.00000000e+00  0.00000000e+00]\n",
      "  [ 0.00000000e+00  0.00000000e+00  0.00000000e+00  0.00000000e+00]]\n",
      "\n",
      " [[ 2.31124336e-01 -6.34761724e-02  3.95621834e+00  2.20000000e+01]\n",
      "  [ 1.28517426e+00 -7.18495606e-02  3.79668946e+00 -2.11000000e+02]\n",
      "  [ 2.69184416e+00  2.79825145e-02  4.10518218e+00  2.11000000e+02]\n",
      "  ...\n",
      "  [ 0.00000000e+00  0.00000000e+00  0.00000000e+00  0.00000000e+00]\n",
      "  [ 0.00000000e+00  0.00000000e+00  0.00000000e+00  0.00000000e+00]\n",
      "  [ 0.00000000e+00  0.00000000e+00  0.00000000e+00  0.00000000e+00]]\n",
      "\n",
      " [[ 3.04140138e-01  7.21628966e-01  1.25271426e+00  2.20000000e+01]\n",
      "  [ 9.00649058e-01  1.19311927e+00  1.03353543e+00  2.11000000e+02]\n",
      "  [ 1.54846983e-01  1.37730434e+00  1.24606922e+00  2.11000000e+02]\n",
      "  ...\n",
      "  [ 0.00000000e+00  0.00000000e+00  0.00000000e+00  0.00000000e+00]\n",
      "  [ 0.00000000e+00  0.00000000e+00  0.00000000e+00  0.00000000e+00]\n",
      "  [ 0.00000000e+00  0.00000000e+00  0.00000000e+00  0.00000000e+00]]]\n",
      "y [1. 1. 1. ... 1. 0. 0.]\n"
     ]
    }
   ],
   "source": [
    "import numpy as np\n",
    "\n",
    "data = np.load('qg_dataset/QG_jets.npz', allow_pickle=True)\n",
    "DATA_SIZE = 0\n",
    "for key, value in data.items():\n",
    "    print(key, value)\n",
    "    DATA_SIZE = len(value)"
   ]
  },
  {
   "cell_type": "code",
   "execution_count": 2,
   "metadata": {},
   "outputs": [],
   "source": [
    "import torch\n",
    "import torch.nn as nn\n",
    "from torch_geometric.data import Data, DataLoader"
   ]
  },
  {
   "cell_type": "markdown",
   "metadata": {},
   "source": [
    "First extract the data like in Task II. I'm not sure why, but the first time you run the data cell, or any cell with DataLoader, it comes up with a warning. It's fine if you run it again though and doesn't seem to affect the model."
   ]
  },
  {
   "cell_type": "code",
   "execution_count": 3,
   "metadata": {},
   "outputs": [],
   "source": [
    "# from torch_geometric.nn import knn_graph\n",
    "from torch_geometric.transforms import KNNGraph\n",
    "\n",
    "class JetDataset(torch.utils.data.Dataset):\n",
    "    def __init__(self, data_path, train=False):\n",
    "        self.data = np.load(data_path, allow_pickle=True)\n",
    "        self.samples = []\n",
    "        self.num_classes = 2\n",
    "        self.train = train\n",
    "\n",
    "        for key, value in self.data.items():\n",
    "            if key == 'X':\n",
    "                self.samples.extend([(sample, label) for sample, label in zip(value, self.data['y'])])\n",
    "        \n",
    "        # 80/20 split for training and testing\n",
    "        split_index = int(0.8 * len(self.samples))\n",
    "        if self.train:\n",
    "            self.samples = self.samples[:split_index]\n",
    "        else:\n",
    "            self.samples = self.samples[split_index:]\n",
    "            \n",
    "    def __len__(self):\n",
    "        return len(self.samples)\n",
    "    \n",
    "    def __getitem__(self, idx):\n",
    "        sample, label = self.samples[idx]\n",
    "        sample = torch.tensor(sample.transpose(), dtype=torch.float32)\n",
    "        label = torch.tensor(label, dtype=torch.long)\n",
    "        \n",
    "        # edge_index = knn_graph(pos, k=6, batch=None, loop=False)\n",
    "        edge_index = KNNGraph(k=6)\n",
    "        \n",
    "        return Data(x=sample, edge_index=edge_index, y=label)\n"
   ]
  },
  {
   "cell_type": "markdown",
   "metadata": {},
   "source": [
    "Create a custom JetDataset to properly format the data and split the samples into testing and training (80/20 split). The dictionary of X and y key value pairs is extracted into an array."
   ]
  },
  {
   "cell_type": "code",
   "execution_count": 4,
   "metadata": {},
   "outputs": [],
   "source": [
    "class JetDataset(torch.utils.data.Dataset):\n",
    "    def __init__(self, data_path, train=False):\n",
    "        self.data = np.load(data_path, allow_pickle=True)\n",
    "        self.samples = []\n",
    "        self.num_classes = 2\n",
    "        self.train = train\n",
    "\n",
    "        for key, value in self.data.items():\n",
    "            if key == 'X':\n",
    "                self.samples.extend([(sample, label) for sample, label in zip(value, self.data['y'])])\n",
    "        \n",
    "        # 80/20 split for training and testing\n",
    "        split_index = int(0.8 * len(self.samples))\n",
    "        if self.train:\n",
    "            self.samples = self.samples[:split_index]\n",
    "        else:\n",
    "            self.samples = self.samples[split_index:]\n",
    "            \n",
    "    def __len__(self):\n",
    "        return len(self.samples)\n",
    "    \n",
    "    def __getitem__(self, idx):\n",
    "        sample, label = self.samples[idx]\n",
    "        sample = torch.tensor(sample.transpose(), dtype=torch.float32)\n",
    "        label = torch.tensor(label, dtype=torch.long) \n",
    "        return sample, label"
   ]
  },
  {
   "cell_type": "markdown",
   "metadata": {},
   "source": [
    "Load the data"
   ]
  },
  {
   "cell_type": "code",
   "execution_count": 5,
   "metadata": {},
   "outputs": [
    {
     "name": "stderr",
     "output_type": "stream",
     "text": [
      "c:\\Users\\realc\\AppData\\Local\\Programs\\Python\\Python311\\Lib\\site-packages\\torch_geometric\\deprecation.py:26: UserWarning: 'data.DataLoader' is deprecated, use 'loader.DataLoader' instead\n",
      "  warnings.warn(out)\n"
     ]
    }
   ],
   "source": [
    "import torch_geometric.transforms as T\n",
    "\n",
    "data_path = 'qg_dataset/QG_jets.npz'\n",
    "train_dataset = JetDataset(data_path, train=True)\n",
    "test_dataset = JetDataset(data_path, train=False)\n",
    "\n",
    "batch_size = 128\n",
    "train_loader = DataLoader(train_dataset, batch_size=batch_size, shuffle=False)\n",
    "test_loader = DataLoader(test_dataset, batch_size=batch_size, shuffle=False)"
   ]
  },
  {
   "cell_type": "code",
   "execution_count": 8,
   "metadata": {},
   "outputs": [],
   "source": [
    "from torch import Tensor\n",
    "from torch.nn import Sequential, Linear, ReLU\n",
    "from torch_geometric.nn import MessagePassing\n",
    "\n",
    "class PointNetLayer(MessagePassing):\n",
    "    def __init__(self, in_channels: int, out_channels: int):\n",
    "        super().__init__(aggr='max')\n",
    "\n",
    "        self.mlp = Sequential(\n",
    "            Linear(in_channels + 3, out_channels),\n",
    "            ReLU(),\n",
    "            Linear(out_channels, out_channels),\n",
    "        )\n",
    "\n",
    "    def forward(self,\n",
    "        h: Tensor,\n",
    "        pos: Tensor,\n",
    "        edge_index: Tensor,\n",
    "    ) -> Tensor:\n",
    "        return self.propagate(edge_index, h=h, pos=pos)\n",
    "\n",
    "    def message(self,\n",
    "        h_j: Tensor,\n",
    "        pos_j: Tensor,\n",
    "        pos_i: Tensor,\n",
    "    ) -> Tensor:\n",
    "\n",
    "        edge_feat = torch.cat([h_j, pos_j - pos_i], dim=-1)\n",
    "        return self.mlp(edge_feat)"
   ]
  },
  {
   "cell_type": "code",
   "execution_count": 17,
   "metadata": {},
   "outputs": [],
   "source": [
    "from torch_geometric.nn import global_max_pool\n",
    "\n",
    "class PointNet(torch.nn.Module):\n",
    "    def __init__(self):\n",
    "        super().__init__()\n",
    "\n",
    "        self.conv1 = PointNetLayer(3, 32)\n",
    "        self.conv2 = PointNetLayer(32, 32)\n",
    "        self.classifier = Linear(32, train_dataset.num_classes)\n",
    "\n",
    "    def forward(self, pos: Tensor, edge_index: Tensor, batch: Tensor) -> Tensor:\n",
    "\n",
    "        h = self.conv1(h=pos, pos=pos, edge_index=edge_index)\n",
    "        h = h.relu()\n",
    "        h = self.conv2(h=h, pos=pos, edge_index=edge_index)\n",
    "        h = h.relu()\n",
    "\n",
    "        h = global_max_pool(h, batch)\n",
    "\n",
    "        return self.classifier(h)"
   ]
  },
  {
   "cell_type": "markdown",
   "metadata": {},
   "source": [
    "Initialize the model and the Adam optimizer and load all the data to be in the correct format to use in PyTorch models."
   ]
  },
  {
   "cell_type": "code",
   "execution_count": 18,
   "metadata": {},
   "outputs": [
    {
     "name": "stdout",
     "output_type": "stream",
     "text": [
      "PointNet(\n",
      "  (conv1): PointNetLayer()\n",
      "  (conv2): PointNetLayer()\n",
      "  (classifier): Linear(in_features=32, out_features=2, bias=True)\n",
      ")\n"
     ]
    },
    {
     "name": "stderr",
     "output_type": "stream",
     "text": [
      "c:\\Users\\realc\\AppData\\Local\\Programs\\Python\\Python311\\Lib\\site-packages\\torch_geometric\\deprecation.py:26: UserWarning: 'data.DataLoader' is deprecated, use 'loader.DataLoader' instead\n",
      "  warnings.warn(out)\n"
     ]
    }
   ],
   "source": [
    "model = PointNet()\n",
    "print(model)\n",
    "optimizer = torch.optim.Adam(model.parameters(), lr=0.001)\n",
    "criterion=torch.nn.CrossEntropyLoss()\n",
    "\n",
    "train_dataset = JetDataset(data_path=data_path, train=True)\n",
    "train_dataset.transform = T.Compose([T.SamplePoints(num=128), T.KNNGraph(k=6)])\n",
    "test_dataset = JetDataset(data_path=data_path, train=False)\n",
    "test_dataset.transform = T.Compose([T.SamplePoints(num=128), T.KNNGraph(k=6)])\n",
    "\n",
    "train_loader = DataLoader(train_dataset, batch_size=batch_size, shuffle=True)\n",
    "test_loader = DataLoader(test_dataset, batch_size=batch_size)"
   ]
  },
  {
   "cell_type": "markdown",
   "metadata": {},
   "source": [
    "With this particular implementation, I ran into a few difficulties, such as knn_graph imports (some of the knn_graph usage is left in commented code). I was trying to use it to connect the nearest 6 nodes in the dataset to each other to create edges and a sort of interconnected structure, but I either went down the rabbit hole of StackOverflow of trying to make knn_graph compatible with my environment, or the structure of KNNGraph not quite working the way I expected. Overall, this was an interesting problem, but I spent a long time on the formatting bit. This was partially due to the fact that I didn't know what exactly the QG dataset contained (the official website only contained the general format but no sample) and spent a long time looking at what different items printed out, and partially because I am more familiar with graphs in a theoretical sense."
   ]
  },
  {
   "cell_type": "code",
   "execution_count": 13,
   "metadata": {},
   "outputs": [
    {
     "ename": "AttributeError",
     "evalue": "'list' object has no attribute 'edge_index'",
     "output_type": "error",
     "traceback": [
      "\u001b[1;31m---------------------------------------------------------------------------\u001b[0m",
      "\u001b[1;31mAttributeError\u001b[0m                            Traceback (most recent call last)",
      "Cell \u001b[1;32mIn[13], line 30\u001b[0m\n\u001b[0;32m     27\u001b[0m     \u001b[38;5;28;01mreturn\u001b[39;00m total_correct \u001b[38;5;241m/\u001b[39m \u001b[38;5;28mlen\u001b[39m(test_loader\u001b[38;5;241m.\u001b[39mdataset)\n\u001b[0;32m     29\u001b[0m \u001b[38;5;28;01mfor\u001b[39;00m epoch \u001b[38;5;129;01min\u001b[39;00m \u001b[38;5;28mrange\u001b[39m(\u001b[38;5;241m1\u001b[39m, \u001b[38;5;241m51\u001b[39m):\n\u001b[1;32m---> 30\u001b[0m     loss \u001b[38;5;241m=\u001b[39m \u001b[43mtrain\u001b[49m\u001b[43m(\u001b[49m\u001b[43m)\u001b[49m\n\u001b[0;32m     31\u001b[0m     test_acc \u001b[38;5;241m=\u001b[39m test()\n\u001b[0;32m     32\u001b[0m     \u001b[38;5;28mprint\u001b[39m(\u001b[38;5;124mf\u001b[39m\u001b[38;5;124m'\u001b[39m\u001b[38;5;124mEpoch: \u001b[39m\u001b[38;5;132;01m{\u001b[39;00mepoch\u001b[38;5;132;01m:\u001b[39;00m\u001b[38;5;124m02d\u001b[39m\u001b[38;5;132;01m}\u001b[39;00m\u001b[38;5;124m, Loss: \u001b[39m\u001b[38;5;132;01m{\u001b[39;00mloss\u001b[38;5;132;01m:\u001b[39;00m\u001b[38;5;124m.4f\u001b[39m\u001b[38;5;132;01m}\u001b[39;00m\u001b[38;5;124m, Test Acc: \u001b[39m\u001b[38;5;132;01m{\u001b[39;00mtest_acc\u001b[38;5;132;01m:\u001b[39;00m\u001b[38;5;124m.4f\u001b[39m\u001b[38;5;132;01m}\u001b[39;00m\u001b[38;5;124m'\u001b[39m)\n",
      "Cell \u001b[1;32mIn[13], line 8\u001b[0m, in \u001b[0;36mtrain\u001b[1;34m()\u001b[0m\n\u001b[0;32m      5\u001b[0m \u001b[38;5;28;01mfor\u001b[39;00m data \u001b[38;5;129;01min\u001b[39;00m train_loader:\n\u001b[0;32m      6\u001b[0m     optimizer\u001b[38;5;241m.\u001b[39mzero_grad()\n\u001b[1;32m----> 8\u001b[0m     edge_index \u001b[38;5;241m=\u001b[39m (\u001b[43mdata\u001b[49m\u001b[38;5;241;43m.\u001b[39;49m\u001b[43medge_index\u001b[49m[\u001b[38;5;241m0\u001b[39m]\u001b[38;5;241m.\u001b[39mlong(), data\u001b[38;5;241m.\u001b[39medge_index[\u001b[38;5;241m1\u001b[39m]\u001b[38;5;241m.\u001b[39mlong())\n\u001b[0;32m     10\u001b[0m     logits \u001b[38;5;241m=\u001b[39m model(data\u001b[38;5;241m.\u001b[39mpos, edge_index, data\u001b[38;5;241m.\u001b[39mbatch)\n\u001b[0;32m     11\u001b[0m     loss \u001b[38;5;241m=\u001b[39m criterion(logits, data\u001b[38;5;241m.\u001b[39my)\n",
      "\u001b[1;31mAttributeError\u001b[0m: 'list' object has no attribute 'edge_index'"
     ]
    }
   ],
   "source": [
    "def train():\n",
    "    model.train()\n",
    "\n",
    "    total_loss = 0\n",
    "    for data in train_loader:\n",
    "        optimizer.zero_grad()\n",
    "        \n",
    "        edge_index = (data.edge_index[0].long(), data.edge_index[1].long())\n",
    "        \n",
    "        logits = model(data.pos, edge_index, data.batch)\n",
    "        loss = criterion(logits, data.y)\n",
    "        loss.backward()\n",
    "        optimizer.step()\n",
    "        total_loss += loss.item() * data.num_graphs \n",
    "    return total_loss / len(train_loader.dataset)\n",
    "\n",
    "@torch.no_grad()\n",
    "def test():\n",
    "    model.eval()\n",
    "\n",
    "    total_correct = 0\n",
    "    for data in test_loader:\n",
    "        logits = model(data.pos, data.edge_index, data.batch)\n",
    "        pred = logits.argmax(dim=-1)\n",
    "        total_correct += int((pred == data.y).sum())\n",
    "\n",
    "    return total_correct / len(test_loader.dataset)\n",
    "\n",
    "for epoch in range(1, 51):\n",
    "    loss = train()\n",
    "    test_acc = test()\n",
    "    print(f'Epoch: {epoch:02d}, Loss: {loss:.4f}, Test Acc: {test_acc:.4f}')\n",
    "\n"
   ]
  }
 ],
 "metadata": {
  "kernelspec": {
   "display_name": "Python 3",
   "language": "python",
   "name": "python3"
  },
  "language_info": {
   "codemirror_mode": {
    "name": "ipython",
    "version": 3
   },
   "file_extension": ".py",
   "mimetype": "text/x-python",
   "name": "python",
   "nbconvert_exporter": "python",
   "pygments_lexer": "ipython3",
   "version": "3.11.1"
  }
 },
 "nbformat": 4,
 "nbformat_minor": 2
}
