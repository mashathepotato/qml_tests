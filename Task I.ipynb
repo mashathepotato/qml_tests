{
 "cells": [
  {
   "cell_type": "markdown",
   "id": "05c5f711",
   "metadata": {},
   "source": [
    "# TASK I #"
   ]
  },
  {
   "cell_type": "code",
   "execution_count": 116,
   "id": "88902283",
   "metadata": {},
   "outputs": [],
   "source": [
    "import pennylane as qml\n",
    "from pennylane import numpy as np"
   ]
  },
  {
   "cell_type": "markdown",
   "id": "9f1c7ce5",
   "metadata": {},
   "source": [
    "#### 1. Implementing simple quantum operations with Pennylane ####"
   ]
  },
  {
   "cell_type": "code",
   "execution_count": 117,
   "id": "77c5d1e7",
   "metadata": {},
   "outputs": [
    {
     "name": "stdout",
     "output_type": "stream",
     "text": [
      "0: ──H─╭●──────────╭SWAP──RX(1.57)─┤ ╭Probs\n",
      "1: ──H─╰X─╭●───────│───────────────┤ ├Probs\n",
      "2: ──H────╰X─╭●────│───────────────┤ ├Probs\n",
      "3: ──H───────╰X─╭●─│───────────────┤ ├Probs\n",
      "4: ──H──────────╰X─╰SWAP───────────┤ ╰Probs\n"
     ]
    }
   ],
   "source": [
    "# a) \n",
    "qbits = 5\n",
    "dev = qml.device('default.qubit', wires=qbits)\n",
    "\n",
    "@qml.qnode(dev)\n",
    "def circuit():\n",
    "    # b)\n",
    "    for q in range(qbits):\n",
    "        qml.Hadamard(q)\n",
    "    # c)\n",
    "    qml.CNOT(wires=[0, 1])\n",
    "    qml.CNOT([1, 2])\n",
    "    qml.CNOT([2, 3])\n",
    "    qml.CNOT([3, 4])\n",
    "    # d)\n",
    "    qml.SWAP(wires=[0, 4])\n",
    "    # e)\n",
    "    qml.RX(np.pi/2, wires=0)\n",
    "    return qml.probs(wires=range(qbits))\n",
    "\n",
    "# f)\n",
    "drawer = qml.draw(circuit)\n",
    "print(drawer())"
   ]
  },
  {
   "cell_type": "markdown",
   "id": "711d6ae8",
   "metadata": {},
   "source": [
    "#### 2. Implementing another circuit with Pennylane ####"
   ]
  },
  {
   "cell_type": "code",
   "execution_count": 118,
   "id": "bd16859e",
   "metadata": {},
   "outputs": [
    {
     "name": "stdout",
     "output_type": "stream",
     "text": [
      "0: ──H────────╭SWAP─┤ ╭Probs\n",
      "1: ──RX(1.05)─╰SWAP─┤ ├Probs\n",
      "2: ──H────────╭SWAP─┤ ├Probs\n",
      "3: ───────────╰SWAP─┤ ├Probs\n",
      "4: ─────────────────┤ ╰Probs\n"
     ]
    }
   ],
   "source": [
    "@qml.qnode(dev)\n",
    "def circuit():\n",
    "    # a)\n",
    "    qml.Hadamard(wires=0)\n",
    "    # b)\n",
    "    qml.RX(np.pi/3, 1)\n",
    "    # c)\n",
    "    qml.Hadamard(wires=2)\n",
    "    # d)\n",
    "    qml.SWAP(wires=[0, 1])\n",
    "    qml.SWAP(wires=[2, 3])\n",
    "    return qml.probs(wires=range(qbits))\n",
    "\n",
    "drawer = qml.draw(circuit)\n",
    "print(drawer())"
   ]
  }
 ],
 "metadata": {
  "kernelspec": {
   "display_name": "Python 3 (ipykernel)",
   "language": "python",
   "name": "python3"
  },
  "language_info": {
   "codemirror_mode": {
    "name": "ipython",
    "version": 3
   },
   "file_extension": ".py",
   "mimetype": "text/x-python",
   "name": "python",
   "nbconvert_exporter": "python",
   "pygments_lexer": "ipython3",
   "version": "3.11.1"
  }
 },
 "nbformat": 4,
 "nbformat_minor": 5
}
