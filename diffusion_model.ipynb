{
 "cells": [
  {
   "cell_type": "markdown",
   "metadata": {},
   "source": [
    "# Diffusion Model #\n",
    "\n",
    "This is a classical Diffusion Model (DM) implementation on the MNIST dataset. This is not a task on the official tests list, but it's relevant to my proposal. \n",
    "\n",
    "\n",
    "The architecture is inspired by these two papers:\n",
    "\n",
    "https://arxiv.org/pdf/2006.11239.pdf\n",
    "\n",
    "https://arxiv.org/pdf/2105.05233.pdf\n"
   ]
  },
  {
   "cell_type": "code",
   "execution_count": 2,
   "metadata": {},
   "outputs": [],
   "source": [
    "import torch\n",
    "import torch.nn as nn\n",
    "import torch.nn.functional as F\n",
    "import torch.optim as optim\n",
    "import torchvision\n",
    "import torchvision.transforms as transforms\n",
    "\n",
    "from torchvision.datasets import MNIST\n",
    "from torch.utils.data import DataLoader\n",
    "\n",
    "import numpy as np\n",
    "import matplotlib.pyplot as plt"
   ]
  },
  {
   "cell_type": "markdown",
   "metadata": {},
   "source": [
    "## Data Extraction ## \n",
    "Firstly, I extracted the MNIST dataset. I've used it before for a classical CNN about a year ago, so I was relatively familiar with the format. I write some basic functions for plotting the images and creating some visuals.\n",
    "\n",
    "I scaled down the images to 16x16 pixels for easier training. I omitted the testing dataset and any data augmentation (except for the necessary transformations to tensors and Pil images), so the model was only being trained on 80% of MNIST. In hindsight, this was a good decision. The size of 16x16 still produces recognizable images (as plotted below) but reduces the parameters. Using a smaller part of the dataset probably also reduced training time. "
   ]
  },
  {
   "cell_type": "code",
   "execution_count": 3,
   "metadata": {},
   "outputs": [
    {
     "name": "stdout",
     "output_type": "stream",
     "text": [
      "['0 - zero', '1 - one', '2 - two', '3 - three', '4 - four', '5 - five', '6 - six', '7 - seven', '8 - eight', '9 - nine']\n"
     ]
    }
   ],
   "source": [
    "print(MNIST.classes)"
   ]
  },
  {
   "cell_type": "code",
   "execution_count": 4,
   "metadata": {},
   "outputs": [],
   "source": [
    "def plot_grid(images, labels):\n",
    "    fig, axs = plt.subplots(images.shape[0], images.shape[1], figsize=(10,10))\n",
    "    for i in range(images.shape[0]):\n",
    "        for j in range(images.shape[1]):\n",
    "            axs[i, j].imshow(images[i, j])\n",
    "            try:\n",
    "                axs[i, j].set_title(labels[i][j])\n",
    "            except:\n",
    "                pass\n",
    "            axs[i, j].axis('off')\n",
    "\n",
    "def show_images(data, samples=10):\n",
    "    fig, axes = plt.subplots(1, samples, figsize=(20, 2))\n",
    "    indices = np.random.randint(0, len(data), samples)\n",
    "    for i, idx in enumerate(indices):\n",
    "        image, label = data[idx]\n",
    "        image = image.squeeze().numpy()\n",
    "        axes[i].imshow(image, cmap='gray')\n",
    "        axes[i].set_title(f\"Label: {label}\")\n",
    "        axes[i].axis('off')\n",
    "    plt.show()\n",
    "\n",
    "def show_tensor_image(image):\n",
    "    reverse_transforms = transforms.Compose([\n",
    "        transforms.Lambda(lambda t: (t + 1) / 2),\n",
    "        transforms.Lambda(lambda t: t.permute(1, 2, 0)),\n",
    "        transforms.Lambda(lambda t: t.numpy().astype(np.uint8)),\n",
    "        transforms.ToPILImage(),\n",
    "    ])\n",
    "\n",
    "    if len(image.shape) == 4:\n",
    "        # print(image.squeeze().shape)\n",
    "        image = image[0, :, :, :]\n",
    "    plt.imshow(reverse_transforms(image))\n",
    "\n",
    "# I only had a cpu during training, so I didn't provide a GPU option\n",
    "device = torch.device('cpu')"
   ]
  },
  {
   "cell_type": "code",
   "execution_count": 5,
   "metadata": {},
   "outputs": [
    {
     "data": {
      "image/png": "[encoded data removed]",
      "text/plain": [
       "<Figure size 2000x200 with 10 Axes>"
      ]
     },
     "metadata": {},
     "output_type": "display_data"
    }
   ],
   "source": [
    "# Reshape the images to 16x16\n",
    "transform = transforms.Compose([transforms.Resize((16, 16)), \n",
    "                                transforms.ToTensor(),\n",
    "                                transforms.Lambda(lambda t: (t * 2) - 1)]\n",
    "                                )\n",
    "\n",
    "data = MNIST(root='./data', train=True, download=True, transform=transform)\n",
    "\n",
    "data_loader = DataLoader(data, batch_size=64, shuffle=True)\n",
    "\n",
    "show_images(data)"
   ]
  },
  {
   "cell_type": "markdown",
   "metadata": {},
   "source": [
    "#### Defining the maths ####\n",
    "I watched a video on Youtube on the math behind diffusion models. In summary, you can turn a complicated looking summation function into a simpler closed form, which requires defining all the variables that are the terms in the equation. \n",
    "\n",
    "I started out with the time stamp parameter being much smaller, but I settled on a medium T = 500 steps."
   ]
  },
  {
   "cell_type": "code",
   "execution_count": 6,
   "metadata": {},
   "outputs": [
    {
     "name": "stdout",
     "output_type": "stream",
     "text": [
      "torch.Size([500])\n"
     ]
    }
   ],
   "source": [
    "def linear_beta_schedule(timesteps, start=0.0001, end=0.02):\n",
    "    return torch.linspace(start, end, timesteps)\n",
    "\n",
    "def get_index_from_list(vals, t, x_shape):\n",
    "    batch_size = t.shape[0]\n",
    "    out = vals.gather(-1, t.cpu())\n",
    "    return out.reshape(batch_size, *((1,) * (len(x_shape) - 1))).to(t.device)\n",
    "\n",
    "def forward_diffusion(x_0, t, device='cpu'):\n",
    "    # Returns noisy version of the image at a time stamp\n",
    "    noise = torch.randn_like(x_0)\n",
    "    sqrt_alphas_cumprod_t = get_index_from_list(sqrt_alphas_cumprod, t, x_0.shape)\n",
    "    sqrt_one_minus_alphas_cumprod_t = get_index_from_list(\n",
    "        sqrt_one_minus_alphas_cumprod, t, x_0.shape\n",
    "    )\n",
    "    # mean + variance\n",
    "    return sqrt_alphas_cumprod_t.to(device) * x_0.to(device) \\\n",
    "    + sqrt_one_minus_alphas_cumprod_t.to(device) * noise.to(device), noise.to(device)\n",
    "\n",
    "# Define time steps\n",
    "T = 500\n",
    "betas = linear_beta_schedule(timesteps=T)\n",
    "\n",
    "# Initialize terms for closed form\n",
    "alphas = 1. - betas\n",
    "alphas_cumprod = torch.cumprod(alphas, axis=0)\n",
    "alphas_cumprod_prev = F.pad(alphas_cumprod[:-1], (1, 0), value=1.0)\n",
    "sqrt_recip_alphas = torch.sqrt(1.0 / alphas)\n",
    "sqrt_alphas_cumprod = torch.sqrt(alphas_cumprod)\n",
    "sqrt_one_minus_alphas_cumprod = torch.sqrt(1. - alphas_cumprod)\n",
    "posterior_variance = betas * (1. - alphas_cumprod_prev) / (1. - alphas_cumprod)\n",
    "\n",
    "print(alphas.shape)"
   ]
  },
  {
   "cell_type": "code",
   "execution_count": 17,
   "metadata": {},
   "outputs": [
    {
     "name": "stderr",
     "output_type": "stream",
     "text": [
      "C:\\Users\\realc\\AppData\\Local\\Temp\\ipykernel_20816\\2031491092.py:11: MatplotlibDeprecationWarning: Auto-removal of overlapping axes is deprecated since 3.6 and will be removed two minor releases later; explicitly call ax.remove() as needed.\n",
      "  plt.subplot(1, num_images+1, int(idx/stepsize) + 1)\n"
     ]
    },
    {
     "data": {
      "image/png": "[encoded data removed]",
      "text/plain": [
       "<Figure size 1500x1500 with 10 Axes>"
      ]
     },
     "metadata": {},
     "output_type": "display_data"
    }
   ],
   "source": [
    "# This part wasn't working for some time due to uncompatible shapes of the images\n",
    "image = next(iter(data_loader))[0]\n",
    "\n",
    "plt.figure(figsize=(15,15))\n",
    "plt.axis('off')\n",
    "num_images = 10\n",
    "stepsize = int(T/num_images)\n",
    "\n",
    "for idx in range(0, T, stepsize):\n",
    "    t = torch.Tensor([idx]).type(torch.int64)\n",
    "    plt.subplot(1, num_images+1, int(idx/stepsize) + 1)\n",
    "    img, noise = forward_diffusion(image, t)\n",
    "    show_tensor_image(img)\n",
    "    # plt.imshow(torch.squeeze(img, dim=(1, 64)))"
   ]
  },
  {
   "cell_type": "markdown",
   "metadata": {},
   "source": [
    "Plotting some visuals from the Markov chain from 0 to 499 steps. I thought it was interesting to see that the noise was added rather quickly (even though it's just linear increases of the beta variable). This means that the number of steps could be brought down to about 400. Alternatively, a non linear beta could be experimented with."
   ]
  },
  {
   "cell_type": "code",
   "execution_count": 19,
   "metadata": {},
   "outputs": [
    {
     "data": {
      "image/png": "[encoded data removed]",
      "text/plain": [
       "<Figure size 1000x1000 with 30 Axes>"
      ]
     },
     "metadata": {},
     "output_type": "display_data"
    }
   ],
   "source": [
    "def get_noised_images(images, step, alphas_comulative_product):\n",
    "    sqr_cp_alphas = np.sqrt(alphas_comulative_product[step])\n",
    "    sqr_one_minus_cp_alphas = np.sqrt(1-alphas_comulative_product[step])\n",
    "    eps  = torch.randn_like(images)\n",
    "    noised_images = sqr_cp_alphas*images + sqr_one_minus_cp_alphas*eps\n",
    "    return noised_images, eps\n",
    "    \n",
    "images, labels = next(iter(data_loader))\n",
    "image = images[0:5]\n",
    "noised_image_50, _ = get_noised_images(image, 50, alphas_cumprod)\n",
    "noised_image_100, _ = get_noised_images(image, 100, alphas_cumprod)\n",
    "noised_image_300, _ = get_noised_images(image, 300, alphas_cumprod)\n",
    "noised_image_400, _ = get_noised_images(image, 400, alphas_cumprod)\n",
    "noised_image_499, _ = get_noised_images(image, 499, alphas_cumprod)\n",
    "\n",
    "images_concat = torch.cat((image, noised_image_50, noised_image_100, noised_image_300, noised_image_400, noised_image_499), dim=1)\n",
    "# Plot the images\n",
    "labels = [['OG', 'Step 50', 'Step 100', 'Step 300', 'Step 400', 'Step 499']]\n",
    "plot_grid(images_concat, labels)"
   ]
  },
  {
   "cell_type": "markdown",
   "metadata": {},
   "source": [
    "#### Model ####\n",
    "This block defines the architecture of the model. I used a standard U-Net architecture, though there are newer papers that completely omit this part and only use a transformer. The residual block connecting the layers allows the model to learn residual mappings more easily by applying a function to the input tensor and adding the input tensor to the output of the function. Since the time steps aren't explicitly recognized, this helps the model know where it is.\n",
    "\n",
    "The up and down sample blocks are standard for U-Nets. They apply a symmetrical number of transformations to each image, forming the U shape. "
   ]
  },
  {
   "cell_type": "code",
   "execution_count": 9,
   "metadata": {},
   "outputs": [],
   "source": [
    "import math\n",
    "import copy\n",
    "from pathlib import Path\n",
    "from random import random\n",
    "from functools import partial\n",
    "from collections import namedtuple\n",
    "from multiprocessing import cpu_count\n",
    "\n",
    "import torch\n",
    "from torch import nn, einsum\n",
    "import torch.nn.functional as F\n",
    "\n",
    "from einops import rearrange, reduce, repeat\n",
    "from einops.layers.torch import Rearrange\n",
    "\n",
    "from tqdm.auto import tqdm\n",
    "\n",
    "\n",
    "ModelPrediction =  namedtuple('ModelPrediction', ['pred_noise', 'pred_x_start'])\n",
    "\n",
    "def exists(x):\n",
    "    return x is not None\n",
    "\n",
    "def default(val, d):\n",
    "    if exists(val):\n",
    "        return val\n",
    "    return d() if callable(d) else d\n",
    "\n",
    "def identity(t, *args, **kwargs):\n",
    "    return t\n",
    "\n",
    "def cycle(dl):\n",
    "    while True:\n",
    "        for data in dl:\n",
    "            yield data\n",
    "\n",
    "def has_int_squareroot(num):\n",
    "    return (math.sqrt(num) ** 2) == num\n",
    "\n",
    "def num_to_groups(num, divisor):\n",
    "    groups = num // divisor\n",
    "    remainder = num % divisor\n",
    "    arr = [divisor] * groups\n",
    "    if remainder > 0:\n",
    "        arr.append(remainder)\n",
    "    return arr\n",
    "\n",
    "def convert_image_to_fn(img_type, image):\n",
    "    if image.mode != img_type:\n",
    "        return image.convert(img_type)\n",
    "    return image\n",
    "\n",
    "\n",
    "def normalize_to_neg_one_to_one(img):\n",
    "    return img * 2 - 1\n",
    "\n",
    "def unnormalize_to_zero_to_one(t):\n",
    "    return (t + 1) * 0.5\n",
    "\n",
    "\n",
    "def uniform(shape, device):\n",
    "    return torch.zeros(shape, device = device).float().uniform_(0, 1)\n",
    "\n",
    "def prob_mask_like(shape, prob, device):\n",
    "    if prob == 1:\n",
    "        return torch.ones(shape, device = device, dtype = torch.bool)\n",
    "    elif prob == 0:\n",
    "        return torch.zeros(shape, device = device, dtype = torch.bool)\n",
    "    else:\n",
    "        return torch.zeros(shape, device = device).float().uniform_(0, 1) < prob\n",
    "\n",
    "\n",
    "\n",
    "class Residual(nn.Module):\n",
    "    def __init__(self, fn):\n",
    "        super().__init__()\n",
    "        self.fn = fn\n",
    "\n",
    "    def forward(self, x, *args, **kwargs):\n",
    "        return self.fn(x, *args, **kwargs) + x\n",
    "\n",
    "def Upsample(dim, dim_out = None):\n",
    "    return nn.Sequential(\n",
    "        nn.Upsample(scale_factor = 2, mode = 'nearest'),\n",
    "        nn.Conv2d(dim, default(dim_out, dim), 3, padding = 1)\n",
    "    )\n",
    "\n",
    "def Downsample(dim, dim_out = None):\n",
    "    return nn.Conv2d(dim, default(dim_out, dim), 4, 2, 1)\n",
    "\n",
    "class WeightStandardizedConv2d(nn.Conv2d):\n",
    "    def forward(self, x):\n",
    "        eps = 1e-5 if x.dtype == torch.float32 else 1e-3\n",
    "\n",
    "        weight = self.weight\n",
    "        mean = reduce(weight, 'o ... -> o 1 1 1', 'mean')\n",
    "        var = reduce(weight, 'o ... -> o 1 1 1', partial(torch.var, unbiased = False))\n",
    "        normalized_weight = (weight - mean) * (var + eps).rsqrt()\n",
    "\n",
    "        return F.conv2d(x, normalized_weight, self.bias, self.stride, self.padding, self.dilation, self.groups)\n",
    "\n",
    "class LayerNorm(nn.Module):\n",
    "    def __init__(self, dim):\n",
    "        super().__init__()\n",
    "        self.g = nn.Parameter(torch.ones(1, dim, 1, 1))\n",
    "\n",
    "    def forward(self, x):\n",
    "        eps = 1e-5 if x.dtype == torch.float32 else 1e-3\n",
    "        var = torch.var(x, dim = 1, unbiased = False, keepdim = True)\n",
    "        mean = torch.mean(x, dim = 1, keepdim = True)\n",
    "        return (x - mean) * (var + eps).rsqrt() * self.g\n",
    "\n",
    "class PreNorm(nn.Module):\n",
    "    def __init__(self, dim, fn):\n",
    "        super().__init__()\n",
    "        self.fn = fn\n",
    "        self.norm = LayerNorm(dim)\n",
    "\n",
    "    def forward(self, x):\n",
    "        x = self.norm(x)\n",
    "        return self.fn(x)\n",
    "\n",
    "class SinusoidalPosEmb(nn.Module):\n",
    "    def __init__(self, dim):\n",
    "        super().__init__()\n",
    "        self.dim = dim\n",
    "\n",
    "    def forward(self, x):\n",
    "        device = x.device\n",
    "        half_dim = self.dim // 2\n",
    "        emb = math.log(10000) / (half_dim - 1)\n",
    "        emb = torch.exp(torch.arange(half_dim, device=device) * -emb)\n",
    "        emb = x[:, None] * emb[None, :]\n",
    "        emb = torch.cat((emb.sin(), emb.cos()), dim=-1)\n",
    "        return emb\n",
    "\n",
    "class RandomOrLearnedSinusoidalPosEmb(nn.Module):\n",
    "    def __init__(self, dim, is_random = False):\n",
    "        super().__init__()\n",
    "        assert (dim % 2) == 0\n",
    "        half_dim = dim // 2\n",
    "        self.weights = nn.Parameter(torch.randn(half_dim), requires_grad = not is_random)\n",
    "\n",
    "    def forward(self, x):\n",
    "        x = rearrange(x, 'b -> b 1')\n",
    "        freqs = x * rearrange(self.weights, 'd -> 1 d') * 2 * math.pi\n",
    "        fouriered = torch.cat((freqs.sin(), freqs.cos()), dim = -1)\n",
    "        fouriered = torch.cat((x, fouriered), dim = -1)\n",
    "        return fouriered\n",
    "\n",
    "\n",
    "\n",
    "class Block(nn.Module):\n",
    "    def __init__(self, dim, dim_out, groups = 8):\n",
    "        super().__init__()\n",
    "        self.proj = WeightStandardizedConv2d(dim, dim_out, 3, padding = 1)\n",
    "        self.norm = nn.GroupNorm(groups, dim_out)\n",
    "        self.act = nn.SiLU()\n",
    "\n",
    "    def forward(self, x, scale_shift = None):\n",
    "        x = self.proj(x)\n",
    "        x = self.norm(x)\n",
    "\n",
    "        if exists(scale_shift):\n",
    "            scale, shift = scale_shift\n",
    "            x = x * (scale + 1) + shift\n",
    "\n",
    "        x = self.act(x)\n",
    "        return x\n",
    "\n",
    "\n",
    "\n",
    "class ResnetBlock(nn.Module):\n",
    "    def __init__(self, dim, dim_out, *, time_emb_dim = None, classes_emb_dim = None, groups = 8):\n",
    "        super().__init__()\n",
    "        self.mlp = nn.Sequential(\n",
    "            nn.SiLU(),\n",
    "            nn.Linear(int(time_emb_dim) + int(classes_emb_dim), dim_out * 2)\n",
    "        ) if exists(time_emb_dim) or exists(classes_emb_dim) else None\n",
    "\n",
    "        self.block1 = Block(dim, dim_out, groups = groups)\n",
    "        self.block2 = Block(dim_out, dim_out, groups = groups)\n",
    "        self.res_conv = nn.Conv2d(dim, dim_out, 1) if dim != dim_out else nn.Identity()\n",
    "\n",
    "    def forward(self, x, time_emb = None, class_emb = None):\n",
    "\n",
    "        scale_shift = None\n",
    "        if exists(self.mlp) and (exists(time_emb) or exists(class_emb)):\n",
    "            cond_emb = tuple(filter(exists, (time_emb, class_emb)))\n",
    "            cond_emb = torch.cat(cond_emb, dim = -1)\n",
    "            cond_emb = self.mlp(cond_emb)\n",
    "            cond_emb = rearrange(cond_emb, 'b c -> b c 1 1')\n",
    "            scale_shift = cond_emb.chunk(2, dim = 1)\n",
    "\n",
    "        h = self.block1(x, scale_shift = scale_shift)\n",
    "\n",
    "        h = self.block2(h)\n",
    "\n",
    "        return h + self.res_conv(x)\n",
    "\n",
    "\n",
    "\n",
    "class LinearAttention(nn.Module):\n",
    "    def __init__(self, dim, heads = 4, dim_head = 32):\n",
    "        super().__init__()\n",
    "        self.scale = dim_head ** -0.5\n",
    "        self.heads = heads\n",
    "        hidden_dim = dim_head * heads\n",
    "        self.to_qkv = nn.Conv2d(dim, hidden_dim * 3, 1, bias = False)\n",
    "\n",
    "        self.to_out = nn.Sequential(\n",
    "            nn.Conv2d(hidden_dim, dim, 1),\n",
    "            LayerNorm(dim)\n",
    "        )\n",
    "\n",
    "    def forward(self, x):\n",
    "        b, c, h, w = x.shape\n",
    "        qkv = self.to_qkv(x).chunk(3, dim = 1)\n",
    "        q, k, v = map(lambda t: rearrange(t, 'b (h c) x y -> b h c (x y)', h = self.heads), qkv)\n",
    "\n",
    "        q = q.softmax(dim = -2)\n",
    "        k = k.softmax(dim = -1)\n",
    "\n",
    "        q = q * self.scale\n",
    "        v = v / (h * w)\n",
    "\n",
    "        context = torch.einsum('b h d n, b h e n -> b h d e', k, v)\n",
    "\n",
    "        out = torch.einsum('b h d e, b h d n -> b h e n', context, q)\n",
    "        out = rearrange(out, 'b h c (x y) -> b (h c) x y', h = self.heads, x = h, y = w)\n",
    "        return self.to_out(out)\n",
    "\n",
    "\n",
    "\n",
    "class Attention(nn.Module):\n",
    "    def __init__(self, dim, heads = 4, dim_head = 32):\n",
    "        super().__init__()\n",
    "        self.scale = dim_head ** -0.5\n",
    "        self.heads = heads\n",
    "        hidden_dim = dim_head * heads\n",
    "\n",
    "        self.to_qkv = nn.Conv2d(dim, hidden_dim * 3, 1, bias = False)\n",
    "        self.to_out = nn.Conv2d(hidden_dim, dim, 1)\n",
    "\n",
    "    def forward(self, x):\n",
    "        b, c, h, w = x.shape\n",
    "        qkv = self.to_qkv(x).chunk(3, dim = 1)\n",
    "        q, k, v = map(lambda t: rearrange(t, 'b (h c) x y -> b h c (x y)', h = self.heads), qkv)\n",
    "\n",
    "        q = q * self.scale\n",
    "\n",
    "        sim = einsum('b h d i, b h d j -> b h i j', q, k)\n",
    "        attn = sim.softmax(dim = -1)\n",
    "        out = einsum('b h i j, b h d j -> b h i d', attn, v)\n",
    "\n",
    "        out = rearrange(out, 'b h (x y) d -> b (h d) x y', x = h, y = w)\n",
    "        return self.to_out(out)\n",
    "\n",
    "\n",
    "\n",
    "class Unet(nn.Module):\n",
    "    def __init__(\n",
    "        self,\n",
    "        dim,\n",
    "        num_classes,\n",
    "        cond_drop_prob = 0.5,\n",
    "        init_dim = None,\n",
    "        out_dim = None,\n",
    "        dim_mults=(1, 2, 4, 8),\n",
    "        channels = 3,\n",
    "        resnet_block_groups = 8,\n",
    "        learned_variance = False,\n",
    "        learned_sinusoidal_cond = False,\n",
    "        random_fourier_features = False,\n",
    "        learned_sinusoidal_dim = 16,\n",
    "    ):\n",
    "        super().__init__()\n",
    "\n",
    "\n",
    "        self.cond_drop_prob = cond_drop_prob\n",
    "\n",
    "\n",
    "        self.channels = channels\n",
    "        input_channels = channels\n",
    "\n",
    "        init_dim = default(init_dim, dim)\n",
    "        self.init_conv = nn.Conv2d(input_channels, init_dim, 7, padding = 3)\n",
    "\n",
    "        dims = [init_dim, *map(lambda m: dim * m, dim_mults)]\n",
    "        in_out = list(zip(dims[:-1], dims[1:]))\n",
    "\n",
    "        block_klass = partial(ResnetBlock, groups = resnet_block_groups)\n",
    "\n",
    "        time_dim = dim * 4\n",
    "\n",
    "        self.random_or_learned_sinusoidal_cond = learned_sinusoidal_cond or random_fourier_features\n",
    "\n",
    "        if self.random_or_learned_sinusoidal_cond:\n",
    "            sinu_pos_emb = RandomOrLearnedSinusoidalPosEmb(learned_sinusoidal_dim, random_fourier_features)\n",
    "            fourier_dim = learned_sinusoidal_dim + 1\n",
    "        else:\n",
    "            sinu_pos_emb = SinusoidalPosEmb(dim)\n",
    "            fourier_dim = dim\n",
    "\n",
    "        self.time_mlp = nn.Sequential(\n",
    "            sinu_pos_emb,\n",
    "            nn.Linear(fourier_dim, time_dim),\n",
    "            nn.GELU(),\n",
    "            nn.Linear(time_dim, time_dim)\n",
    "        )\n",
    "\n",
    "\n",
    "        self.classes_emb = nn.Embedding(num_classes, dim)\n",
    "        self.null_classes_emb = nn.Parameter(torch.randn(dim))\n",
    "\n",
    "        classes_dim = dim * 4\n",
    "\n",
    "        self.classes_mlp = nn.Sequential(\n",
    "            nn.Linear(dim, classes_dim),\n",
    "            nn.GELU(),\n",
    "            nn.Linear(classes_dim, classes_dim)\n",
    "        )\n",
    "\n",
    "\n",
    "        self.downs = nn.ModuleList([])\n",
    "        self.ups = nn.ModuleList([])\n",
    "        num_resolutions = len(in_out)\n",
    "\n",
    "        for ind, (dim_in, dim_out) in enumerate(in_out):\n",
    "            is_last = ind >= (num_resolutions - 1)\n",
    "\n",
    "            self.downs.append(nn.ModuleList([\n",
    "                block_klass(dim_in, dim_in, time_emb_dim = time_dim, classes_emb_dim = classes_dim),\n",
    "                block_klass(dim_in, dim_in, time_emb_dim = time_dim, classes_emb_dim = classes_dim),\n",
    "                Residual(PreNorm(dim_in, LinearAttention(dim_in))),\n",
    "                Downsample(dim_in, dim_out) if not is_last else nn.Conv2d(dim_in, dim_out, 3, padding = 1)\n",
    "            ]))\n",
    "\n",
    "        mid_dim = dims[-1]\n",
    "        self.mid_block1 = block_klass(mid_dim, mid_dim, time_emb_dim = time_dim, classes_emb_dim = classes_dim)\n",
    "        self.mid_attn = Residual(PreNorm(mid_dim, Attention(mid_dim)))\n",
    "        self.mid_block2 = block_klass(mid_dim, mid_dim, time_emb_dim = time_dim, classes_emb_dim = classes_dim)\n",
    "\n",
    "        for ind, (dim_in, dim_out) in enumerate(reversed(in_out)):\n",
    "            is_last = ind == (len(in_out) - 1)\n",
    "\n",
    "            self.ups.append(nn.ModuleList([\n",
    "                block_klass(dim_out + dim_in, dim_out, time_emb_dim = time_dim, classes_emb_dim = classes_dim),\n",
    "                block_klass(dim_out + dim_in, dim_out, time_emb_dim = time_dim, classes_emb_dim = classes_dim),\n",
    "                Residual(PreNorm(dim_out, LinearAttention(dim_out))),\n",
    "                Upsample(dim_out, dim_in) if not is_last else  nn.Conv2d(dim_out, dim_in, 3, padding = 1)\n",
    "            ]))\n",
    "\n",
    "        default_out_dim = channels * (1 if not learned_variance else 2)\n",
    "        self.out_dim = default(out_dim, default_out_dim)\n",
    "\n",
    "        self.final_res_block = block_klass(dim * 2, dim, time_emb_dim = time_dim, classes_emb_dim = classes_dim)\n",
    "        self.final_conv = nn.Conv2d(dim, self.out_dim, 1)\n",
    "\n",
    "    def forward_with_cond_scale(\n",
    "        self,\n",
    "        *args,\n",
    "        cond_scale = 1.,\n",
    "        **kwargs\n",
    "    ):\n",
    "        logits = self.forward(*args, **kwargs)\n",
    "\n",
    "        if cond_scale == 1:\n",
    "            return logits\n",
    "\n",
    "        null_logits = self.forward(*args, cond_drop_prob = 1., **kwargs)\n",
    "        return null_logits + (logits - null_logits) * cond_scale\n",
    "\n",
    "    def forward(\n",
    "        self,\n",
    "        x,\n",
    "        time,\n",
    "        classes,\n",
    "        cond_drop_prob = None\n",
    "    ):\n",
    "        batch, device = x.shape[0], x.device\n",
    "\n",
    "        cond_drop_prob = default(cond_drop_prob, self.cond_drop_prob)\n",
    "\n",
    "        classes_emb = self.classes_emb(classes)\n",
    "\n",
    "        if cond_drop_prob > 0:\n",
    "            keep_mask = prob_mask_like((batch,), 1 - cond_drop_prob, device = device)\n",
    "            null_classes_emb = repeat(self.null_classes_emb, 'd -> b d', b = batch)\n",
    "\n",
    "            classes_emb = torch.where(\n",
    "                rearrange(keep_mask, 'b -> b 1'),\n",
    "                classes_emb,\n",
    "                null_classes_emb\n",
    "            )\n",
    "\n",
    "        c = self.classes_mlp(classes_emb)\n",
    "\n",
    "        x = self.init_conv(x)\n",
    "        r = x.clone()\n",
    "\n",
    "        t = self.time_mlp(time)\n",
    "\n",
    "        h = []\n",
    "\n",
    "        for block1, block2, attn, downsample in self.downs:\n",
    "            x = block1(x, t, c)\n",
    "            h.append(x)\n",
    "\n",
    "            x = block2(x, t, c)\n",
    "            x = attn(x)\n",
    "            h.append(x)\n",
    "\n",
    "            x = downsample(x)\n",
    "\n",
    "        x = self.mid_block1(x, t, c)\n",
    "        x = self.mid_attn(x)\n",
    "        x = self.mid_block2(x, t, c)\n",
    "\n",
    "        for block1, block2, attn, upsample in self.ups:\n",
    "            x = torch.cat((x, h.pop()), dim = 1)\n",
    "            x = block1(x, t, c)\n",
    "\n",
    "            x = torch.cat((x, h.pop()), dim = 1)\n",
    "            x = block2(x, t, c)\n",
    "            x = attn(x)\n",
    "\n",
    "            x = upsample(x)\n",
    "\n",
    "        x = torch.cat((x, r), dim = 1)\n",
    "        x = self.final_res_block(x, t, c)\n",
    "        return self.final_conv(x)"
   ]
  },
  {
   "cell_type": "code",
   "execution_count": 10,
   "metadata": {},
   "outputs": [
    {
     "name": "stdout",
     "output_type": "stream",
     "text": [
      "torch.Size([4, 1, 16, 16]) torch.Size([4, 1, 16, 16])\n"
     ]
    },
    {
     "data": {
      "application/vnd.jupyter.widget-view+json": {
       "model_id": "8ba6f4e92f2040d1a46a2b1d2f0d4669",
       "version_major": 2,
       "version_minor": 0
      },
      "text/plain": [
       "  0%|          | 0/100 [00:00<?, ?it/s]"
      ]
     },
     "metadata": {},
     "output_type": "display_data"
    },
    {
     "name": "stderr",
     "output_type": "stream",
     "text": [
      "C:\\Users\\realc\\AppData\\Local\\Temp\\ipykernel_20816\\2748644924.py:56: UserWarning: Creating a tensor from a list of numpy.ndarrays is extremely slow. Please consider converting the list to a single numpy.ndarray with numpy.array() before converting to a tensor. (Triggered internally at ..\\torch\\csrc\\utils\\tensor_new.cpp:264.)\n",
      "  cumul_alpha = torch.Tensor([self.alphas_comulative_product[step]]).to(device)[0][0]\n"
     ]
    },
    {
     "name": "stdout",
     "output_type": "stream",
     "text": [
      "geee torch.Size([4, 1, 32, 32])\n"
     ]
    },
    {
     "data": {
      "application/vnd.jupyter.widget-view+json": {
       "model_id": "69563abca9914082bbbf93d536be2b71",
       "version_major": 2,
       "version_minor": 0
      },
      "text/plain": [
       "  0%|          | 0/100 [00:00<?, ?it/s]"
      ]
     },
     "metadata": {},
     "output_type": "display_data"
    },
    {
     "name": "stdout",
     "output_type": "stream",
     "text": [
      "torch.Size([4, 100, 32, 32])\n"
     ]
    },
    {
     "data": {
      "image/png": "[encoded data removed]",
      "text/plain": [
       "<Figure size 1000x1000 with 8 Axes>"
      ]
     },
     "metadata": {},
     "output_type": "display_data"
    },
    {
     "data": {
      "image/png": "[encoded data removed]",
      "text/plain": [
       "<Figure size 1000x1000 with 8 Axes>"
      ]
     },
     "metadata": {},
     "output_type": "display_data"
    }
   ],
   "source": [
    "class DiffuserModel(nn.Module):\n",
    "    def __init__(self, model, steps, B_start, B_end, image_shape, channels):\n",
    "        super(DiffuserModel, self).__init__()\n",
    "        self.model = model\n",
    "        self.steps = steps\n",
    "        self.B_start = B_start\n",
    "        self.B_end = B_end\n",
    "        self.image_shape = image_shape\n",
    "        self.channels = channels\n",
    "        self.B = self.beta_scheduler()\n",
    "        self.alphas = 1-self.B\n",
    "        self.alphas_comulative_product = np.cumprod(self.alphas, axis = 0)\n",
    "\n",
    "    def beta_scheduler(self, type = 'linear'): #defining the same function as above\n",
    "        if type == 'linear':\n",
    "            beta = np.linspace(self.B_start, self.B_end, self.steps)\n",
    "        elif type == 'exponential':\n",
    "            beta = np.exp(np.linspace(np.log(self.B_start), np.log(self.B_end), self.steps))\n",
    "        return beta\n",
    "\n",
    "    def get_noised_images(self, image, step):\n",
    "        try:\n",
    "          step = step.to('cpu')\n",
    "        except:\n",
    "          pass\n",
    "        sqrt_alpha_cp = torch.Tensor(np.sqrt(self.alphas_comulative_product[step])).unsqueeze(dim=-1).unsqueeze(dim=-1).unsqueeze(dim=-1).to(device)\n",
    "        sqrt_one_minus_alpha_cp = torch.Tensor(np.sqrt(1-self.alphas_comulative_product[step])).unsqueeze(dim=-1).unsqueeze(dim=-1).unsqueeze(dim=-1).to(device)\n",
    "        eps = torch.randn_like(image).to(device)\n",
    "        noised_image = sqrt_alpha_cp*image.to(device) + sqrt_one_minus_alpha_cp*eps\n",
    "        return noised_image, eps\n",
    "\n",
    "    def predict_noise_training(self, image, step, labels):\n",
    "        noised_image, eps = self.get_noised_images(image, step)\n",
    "        output = self.model(noised_image, step, labels)\n",
    "        return output, eps\n",
    "\n",
    "    def predict_noise(self, image_noised, step, labels):\n",
    "        noise = self.model(image_noised, step, labels)\n",
    "        return noise\n",
    "\n",
    "    def generate_images(self, number_images, classes, all_steps = False):\n",
    "        if not all_steps:\n",
    "            model.eval()\n",
    "            with torch.no_grad():\n",
    "                gen = torch.randn(number_images, self.channels, self.image_shape, self.image_shape, device = device)\n",
    "                for step in tqdm(range(self.steps)):\n",
    "\n",
    "                    step = self.steps - step - 1\n",
    "                    step = torch.full((number_images,), step)\n",
    "                    pred_noise = self.predict_noise(gen, step.to(device), classes)\n",
    "                    alpha = self.alphas[step]\n",
    "                    alpha = torch.Tensor(alpha).to(device)[0]\n",
    "                    cumul_alpha = torch.Tensor([self.alphas_comulative_product[step]]).to(device)[0][0]\n",
    "                    gen = 1/alpha*(gen - ((1-alpha)/torch.sqrt(1 - cumul_alpha)) * pred_noise)\n",
    "            model.train()\n",
    "            return gen\n",
    "        else:\n",
    "            model.eval()\n",
    "            with torch.no_grad():\n",
    "                gen = torch.randn(number_images, self.channels, self.image_shape, self.image_shape, device = device)\n",
    "                gen_steps = torch.randn(number_images, self.steps, self.image_shape, self.image_shape, device = device)\n",
    "                for step in tqdm(range(self.steps)):\n",
    "\n",
    "                    step = self.steps - step - 1\n",
    "                    step = torch.full((number_images,), step)\n",
    "                    #print(step)\n",
    "                    pred_noise = self.predict_noise(gen, step.to(device), classes)\n",
    "                    #print(pred_noise.shape)\n",
    "                    alpha = self.alphas[step]\n",
    "                    alpha = torch.Tensor(alpha).to(device)[0]\n",
    "                    cumul_alpha = torch.Tensor([self.alphas_comulative_product[step]]).to(device)[0][0]\n",
    "                    #print(cumul_alpha, alpha.shape, pred_noise.shape, gen.shape)\n",
    "                    gen = 1/alpha*(gen - ((1-alpha)/torch.sqrt(1 - cumul_alpha)) * pred_noise)\n",
    "                    gen_steps[:,step,:,:] = gen[:,0,:,:]\n",
    "            model.train()\n",
    "            return gen_steps\n",
    "\n",
    "\n",
    "model = DiffuserModel(nn.DataParallel(Unet(\n",
    "        dim = 16,\n",
    "        channels = 1,\n",
    "        dim_mults = (1, 2, 4, 8),\n",
    "        num_classes = 10,\n",
    "        cond_drop_prob = 0.5\n",
    "    )).to(device), 100, 0.0001, 0.02, 32, 1)\n",
    "images, _ = next(iter(data_loader))\n",
    "images = images[0:4].to(device)\n",
    "noised_images, eps = model.get_noised_images(images, [50,10,5,50])\n",
    "print(noised_images.shape, eps.shape)\n",
    "#plot the images with the function defined above\n",
    "cat_images = torch.cat((images, noised_images), dim = 1).to('cpu')\n",
    "plot_grid(cat_images,None)\n",
    "\n",
    "#test generate images\n",
    "classes_test = torch.ones(4, dtype = torch.int32, device = device)\n",
    "gen = model.generate_images(4, classes_test)\n",
    "print('geee', gen.shape)\n",
    "plot_grid(torch.cat((gen,gen), dim = 1).to('cpu'), None)\n",
    "\n",
    "gen_two = model.generate_images(4, classes_test, all_steps = True)\n",
    "print(gen_two.shape)\n",
    "\n",
    "results = {}\n",
    "\n",
    "def train(parameters):\n",
    "    if parameters['model']:\n",
    "        model = parameters['model']\n",
    "    else:\n",
    "        model = DiffuserModel(nn.DataParallel(Unet(\n",
    "        dim = 16,\n",
    "        channels = 1,\n",
    "        dim_mults = (1, 2, 4, 8),\n",
    "        num_classes = 10,\n",
    "        cond_drop_prob = 0.5\n",
    "    )).to(device), parameters['steps'], parameters['B_start'], parameters['B_end'], parameters['image_shape'], parameters['channels'])\n",
    "    optimizer = torch.optim.Adam(model.parameters(), lr = parameters['lr'][0])\n",
    "    criterion = nn.MSELoss()\n",
    "    for epoch in range(parameters['epochs']):\n",
    "        #save the generated numpy array images as png #16,1,32,32\n",
    "        if epoch%10 == 0 or epoch == parameters['epochs']-1:\n",
    "          classes_test = torch.Tensor([0,1,2,3,4,5,6,7,8,9])\n",
    "          classes_test = classes_test.to(dtype = torch.int32, device = device)\n",
    "          gen = model.generate_images(10, classes_test)\n",
    "          results['epc{}'.format(epoch)] = gen.to('cpu').detach().numpy()\n",
    "          for i in range(gen.shape[0]):\n",
    "              plt.imsave('image_{}_{}.png'.format(epoch, i), gen[i,0].to('cpu').detach().numpy(), cmap='gray')\n",
    "            \n",
    "        if epoch == 20:\n",
    "            optimizer = torch.optim.Adam(model.parameters(), lr = parameters['lr'][1])\n",
    "        losipoc = 0\n",
    "        count = 0\n",
    "        for i, data in tqdm(enumerate(data_loader)):\n",
    "            images, labels = data\n",
    "            images = images.to(device)\n",
    "            ts = torch.randint(0, parameters['steps'], (images.shape[0],), device = device)\n",
    "            output, eps = model.predict_noise_training(images, ts, labels.to(device))\n",
    "            loss = criterion(output, eps)\n",
    "            losipoc = losipoc + loss\n",
    "            count = count + 1\n",
    "            optimizer.zero_grad()\n",
    "            loss.backward()\n",
    "            optimizer.step()\n",
    "        print(losipoc/count)\n",
    "\n",
    "\n",
    "            \n",
    "    return model\n"
   ]
  },
  {
   "cell_type": "markdown",
   "metadata": {},
   "source": [
    "#### Training #### \n",
    "These 3 lines of code took around 2 hours to execute. In hindsight, I should have used Google Collab, but I made a false assumption that each epoch would take around the same time as the first epoch, which was actually the best timed epoch. Of course, there should also be hyperparameter tuning, but that would require a lot more resources.\n"
   ]
  },
  {
   "cell_type": "code",
   "execution_count": 11,
   "metadata": {},
   "outputs": [
    {
     "data": {
      "application/vnd.jupyter.widget-view+json": {
       "model_id": "b0f3fb2623774ffcac5ef87cf5bf96a7",
       "version_major": 2,
       "version_minor": 0
      },
      "text/plain": [
       "  0%|          | 0/1000 [00:00<?, ?it/s]"
      ]
     },
     "metadata": {},
     "output_type": "display_data"
    },
    {
     "data": {
      "application/vnd.jupyter.widget-view+json": {
       "model_id": "2f55c50305bd463cb5a42c7965b5bc8c",
       "version_major": 2,
       "version_minor": 0
      },
      "text/plain": [
       "0it [00:00, ?it/s]"
      ]
     },
     "metadata": {},
     "output_type": "display_data"
    },
    {
     "name": "stdout",
     "output_type": "stream",
     "text": [
      "tensor(0.2327, grad_fn=<DivBackward0>)\n"
     ]
    },
    {
     "data": {
      "application/vnd.jupyter.widget-view+json": {
       "model_id": "e4c03cdcef314e408cd8594292f548c3",
       "version_major": 2,
       "version_minor": 0
      },
      "text/plain": [
       "0it [00:00, ?it/s]"
      ]
     },
     "metadata": {},
     "output_type": "display_data"
    },
    {
     "name": "stdout",
     "output_type": "stream",
     "text": [
      "tensor(0.0977, grad_fn=<DivBackward0>)\n"
     ]
    },
    {
     "data": {
      "application/vnd.jupyter.widget-view+json": {
       "model_id": "4141799f2ad840c7b6a601beae7a75f4",
       "version_major": 2,
       "version_minor": 0
      },
      "text/plain": [
       "0it [00:00, ?it/s]"
      ]
     },
     "metadata": {},
     "output_type": "display_data"
    },
    {
     "name": "stdout",
     "output_type": "stream",
     "text": [
      "tensor(0.0808, grad_fn=<DivBackward0>)\n"
     ]
    },
    {
     "data": {
      "application/vnd.jupyter.widget-view+json": {
       "model_id": "6a79002a399f4abb896d9b38d946dab7",
       "version_major": 2,
       "version_minor": 0
      },
      "text/plain": [
       "0it [00:00, ?it/s]"
      ]
     },
     "metadata": {},
     "output_type": "display_data"
    },
    {
     "name": "stdout",
     "output_type": "stream",
     "text": [
      "tensor(0.0717, grad_fn=<DivBackward0>)\n"
     ]
    },
    {
     "data": {
      "application/vnd.jupyter.widget-view+json": {
       "model_id": "c1696d217eec438492cfe57b444c536e",
       "version_major": 2,
       "version_minor": 0
      },
      "text/plain": [
       "0it [00:00, ?it/s]"
      ]
     },
     "metadata": {},
     "output_type": "display_data"
    },
    {
     "name": "stdout",
     "output_type": "stream",
     "text": [
      "tensor(0.0666, grad_fn=<DivBackward0>)\n"
     ]
    },
    {
     "data": {
      "application/vnd.jupyter.widget-view+json": {
       "model_id": "7beb0e3a5503476b8a1f503b7528b3dd",
       "version_major": 2,
       "version_minor": 0
      },
      "text/plain": [
       "0it [00:00, ?it/s]"
      ]
     },
     "metadata": {},
     "output_type": "display_data"
    },
    {
     "name": "stdout",
     "output_type": "stream",
     "text": [
      "tensor(0.0631, grad_fn=<DivBackward0>)\n"
     ]
    },
    {
     "data": {
      "application/vnd.jupyter.widget-view+json": {
       "model_id": "c6ff9b9082d44a5691cc9e2efca81894",
       "version_major": 2,
       "version_minor": 0
      },
      "text/plain": [
       "0it [00:00, ?it/s]"
      ]
     },
     "metadata": {},
     "output_type": "display_data"
    },
    {
     "name": "stdout",
     "output_type": "stream",
     "text": [
      "tensor(0.0601, grad_fn=<DivBackward0>)\n"
     ]
    },
    {
     "data": {
      "application/vnd.jupyter.widget-view+json": {
       "model_id": "b7ad4f9caa404de6b71c4b804c22c8dc",
       "version_major": 2,
       "version_minor": 0
      },
      "text/plain": [
       "0it [00:00, ?it/s]"
      ]
     },
     "metadata": {},
     "output_type": "display_data"
    },
    {
     "name": "stdout",
     "output_type": "stream",
     "text": [
      "tensor(0.0584, grad_fn=<DivBackward0>)\n"
     ]
    },
    {
     "data": {
      "application/vnd.jupyter.widget-view+json": {
       "model_id": "2614c883329e4d84812323db7a02d718",
       "version_major": 2,
       "version_minor": 0
      },
      "text/plain": [
       "0it [00:00, ?it/s]"
      ]
     },
     "metadata": {},
     "output_type": "display_data"
    },
    {
     "name": "stdout",
     "output_type": "stream",
     "text": [
      "tensor(0.0570, grad_fn=<DivBackward0>)\n"
     ]
    },
    {
     "data": {
      "application/vnd.jupyter.widget-view+json": {
       "model_id": "86655ab0fa7840e695c85bb52009fa5a",
       "version_major": 2,
       "version_minor": 0
      },
      "text/plain": [
       "  0%|          | 0/1000 [00:00<?, ?it/s]"
      ]
     },
     "metadata": {},
     "output_type": "display_data"
    },
    {
     "data": {
      "application/vnd.jupyter.widget-view+json": {
       "model_id": "2314b168854a46deacba4d70faa10639",
       "version_major": 2,
       "version_minor": 0
      },
      "text/plain": [
       "0it [00:00, ?it/s]"
      ]
     },
     "metadata": {},
     "output_type": "display_data"
    },
    {
     "name": "stdout",
     "output_type": "stream",
     "text": [
      "tensor(0.0553, grad_fn=<DivBackward0>)\n"
     ]
    }
   ],
   "source": [
    "parameters = {'model': None, 'steps': 1000, 'B_start': 0.0001, 'B_end': 0.007, 'image_shape': 16, 'channels': 1, 'lr': [0.00006,0.0001, 0.0003], 'epochs': 10}\n",
    "model = train(parameters)\n",
    "torch.save(model.state_dict(), 'model.pt')"
   ]
  },
  {
   "cell_type": "markdown",
   "metadata": {},
   "source": [
    "#### Results ####\n",
    "The results are visualized below. I was expecting it to go horribly wrong, so I was pleasantly surprised that only 10 epochs produced reasonable outcomes without much tweaking. It's clear that the model is indeed taking random Gaussian noise (on the left) and predicting numbers from that. Overall, this model performs well as a lightweight MNIST predictor. To make it quantum, various chunks from within the U-Net could be taken out and replaced with PQCs. For example, the ResNet or the Attention layer could be changed at the bottom of the U and quantum simulation and classical results and resources could be compared. I talked about this a bit more in detail in my proposal."
   ]
  },
  {
   "cell_type": "code",
   "execution_count": 14,
   "metadata": {},
   "outputs": [
    {
     "name": "stdout",
     "output_type": "stream",
     "text": [
      "[['epc0', 'epc9']]\n"
     ]
    },
    {
     "data": {
      "image/png": "[encoded data removed]",
      "text/plain": [
       "<Figure size 1000x1000 with 20 Axes>"
      ]
     },
     "metadata": {},
     "output_type": "display_data"
    }
   ],
   "source": [
    "training_results = np.random.rand(10,1,16,16)\n",
    "for i, key in enumerate(results):\n",
    "    if i == 0:\n",
    "        training_results = results[key]\n",
    "    else:\n",
    "        training_results = np.concatenate((training_results, results[key]), axis = 1)\n",
    "# print(training_results.shape)\n",
    "labels = [list(results.keys())]\n",
    "print(labels)\n",
    "plot_grid(training_results, labels)"
   ]
  }
 ],
 "metadata": {
  "kernelspec": {
   "display_name": "Python 3",
   "language": "python",
   "name": "python3"
  },
  "language_info": {
   "codemirror_mode": {
    "name": "ipython",
    "version": 3
   },
   "file_extension": ".py",
   "mimetype": "text/x-python",
   "name": "python",
   "nbconvert_exporter": "python",
   "pygments_lexer": "ipython3",
   "version": "3.11.1"
  }
 },
 "nbformat": 4,
 "nbformat_minor": 2
}
