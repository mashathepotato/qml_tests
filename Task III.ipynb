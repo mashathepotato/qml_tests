{
 "cells": [
  {
   "cell_type": "markdown",
   "metadata": {},
   "source": [
    "#### Task III: Open Task ####"
   ]
  },
  {
   "cell_type": "markdown",
   "metadata": {},
   "source": [
    "Quantum machine learning (QML) opens a realm of cleverly arranged circuits that could exponentially increase the power of machine learning. \n",
    "\n",
    "That is a rather naive definition I had before I conducted background research for this project. After reading papers and listening to a few lectures by Maria Schuld, I understood that although quantumizing certain algorithms can increase computing speed, QML is not inherently better than classical algorithms. Currently, we are far from the vision where ML runs exponentially faster, partly because of the noise-susceptible hardware and partly due to lack of rubustness in the software. Conscious efforts must be made to motivate the design of QML algorithms with a first principle thinking approach from the perspective of ML. I have found that many papers don't explain their reasoning behind choosing a particular circuit and proceed to claim a marginal practical quantum advantage after testing on the MNIST dataset. Firstly, this leaves the motivation behind the logic unclear and propagates the confirmation bias that consists of publishing only \"successful\" models. Secondly, it's unrealistic to train and test a model exclusively on MNIST, in some cases a simplified MNIST. This may be an easy temporary solution, but if we want QML to solve practical problems, we need to train and test it on practical examples. \n",
    "\n",
    "Despite the shortcomings, progress in the right direction has been made. A QML algorithm that caught my attention have contributed to advancing neural networks. For example, the development of parametrized/variational quantum algorithms (PQAs) has provided a basic framework that can be adapted to the complexities of specific algorithms. The basic blocks of a PQA are a cost function, where the minimum cost corresponds with the optimal solution to the problem, an ansatz, which defines the trainable parameters, and optimization. Each block could consist of different functions and algorithms, forming a unique algorithm adapted to a problem. \n",
    "\n",
    "A promising PQA is the Quantum Approximate Optimization Algorithm (QAOA). The goal of QAOA is to find ground state or the lowest energy state of a system of qubits. The algorithm consists of the following steps (using 1 qubit for simplicity):\n",
    "1. Define a superposition of the given qubit (e.g. apply a Hadamard gate)\n",
    "2. Apply a time evolution on the state under the Hamiltonian. The Hamiltonian depends on the unitaries applied in the circuit. \n",
    "3. Set the expression obtained from step 2 to the inverse operation on the same state. From here, we can find the time t for which the time evolution was applied. Plugging in t into the inverse part of the equation gives us a state that is the ground state of the Hamiltonian.\n",
    "4. In a more general QAOA, the Hamiltonian is a Cost Hamiltonian and the operation and inverse rotation is a Mixer Hamiltonian that we time evolve under.\n",
    "\n",
    "In a more complex arbitrary example, we have to alternate between the Cost and Mixer Hamiltonians a set number of times and figure out how much time t we're evolving at each step. We can optimize those parameters numerically, hence it is an optimization algorithm. It can be run on NISQ devices for different applications, which made it popular, and it is built into quantum frameworks like PennyLane. I think this is a good algorithm to use in hybrid classical-quantum systems."
   ]
  },
  {
   "cell_type": "markdown",
   "metadata": {},
   "source": []
  }
 ],
 "metadata": {
  "language_info": {
   "name": "python"
  }
 },
 "nbformat": 4,
 "nbformat_minor": 2
}
